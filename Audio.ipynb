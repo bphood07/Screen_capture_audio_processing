{
 "cells": [
  {
   "cell_type": "code",
   "execution_count": 1,
   "id": "d6a223bc",
   "metadata": {},
   "outputs": [
    {
     "ename": "AttributeError",
     "evalue": "'AudioFileClip' object has no attribute 'audio_find_start'",
     "output_type": "error",
     "traceback": [
      "\u001b[0;31m---------------------------------------------------------------------------\u001b[0m",
      "\u001b[0;31mAttributeError\u001b[0m                            Traceback (most recent call last)",
      "\u001b[0;32m<ipython-input-1-2e0ef930e347>\u001b[0m in \u001b[0;36m<module>\u001b[0;34m\u001b[0m\n\u001b[1;32m     49\u001b[0m \u001b[0;34m\u001b[0m\u001b[0m\n\u001b[1;32m     50\u001b[0m     \u001b[0;31m# Call the function to convert .mov files to audio with trimmed silence\u001b[0m\u001b[0;34m\u001b[0m\u001b[0;34m\u001b[0m\u001b[0;34m\u001b[0m\u001b[0m\n\u001b[0;32m---> 51\u001b[0;31m     \u001b[0mconvert_mov_to_audio\u001b[0m\u001b[0;34m(\u001b[0m\u001b[0minput_folder_path\u001b[0m\u001b[0;34m,\u001b[0m \u001b[0moutput_folder_path\u001b[0m\u001b[0;34m)\u001b[0m\u001b[0;34m\u001b[0m\u001b[0;34m\u001b[0m\u001b[0m\n\u001b[0m",
      "\u001b[0;32m<ipython-input-1-2e0ef930e347>\u001b[0m in \u001b[0;36mconvert_mov_to_audio\u001b[0;34m(input_folder, output_folder)\u001b[0m\n\u001b[1;32m     33\u001b[0m \u001b[0;34m\u001b[0m\u001b[0m\n\u001b[1;32m     34\u001b[0m             \u001b[0;31m# Trim silence from the audio\u001b[0m\u001b[0;34m\u001b[0m\u001b[0;34m\u001b[0m\u001b[0;34m\u001b[0m\u001b[0m\n\u001b[0;32m---> 35\u001b[0;31m             \u001b[0mtrimmed_audio\u001b[0m \u001b[0;34m=\u001b[0m \u001b[0mtrim_silence\u001b[0m\u001b[0;34m(\u001b[0m\u001b[0maudio_clip\u001b[0m\u001b[0;34m)\u001b[0m\u001b[0;34m\u001b[0m\u001b[0;34m\u001b[0m\u001b[0m\n\u001b[0m\u001b[1;32m     36\u001b[0m \u001b[0;34m\u001b[0m\u001b[0m\n\u001b[1;32m     37\u001b[0m             \u001b[0;31m# Save the trimmed audio clip to the output file\u001b[0m\u001b[0;34m\u001b[0m\u001b[0;34m\u001b[0m\u001b[0;34m\u001b[0m\u001b[0m\n",
      "\u001b[0;32m<ipython-input-1-2e0ef930e347>\u001b[0m in \u001b[0;36mtrim_silence\u001b[0;34m(audio_clip)\u001b[0m\n\u001b[1;32m      5\u001b[0m     \u001b[0;31m# Trim silence from the beginning and end\u001b[0m\u001b[0;34m\u001b[0m\u001b[0;34m\u001b[0m\u001b[0;34m\u001b[0m\u001b[0m\n\u001b[1;32m      6\u001b[0m     trimmed_audio = audio_clip.subclip(\n\u001b[0;32m----> 7\u001b[0;31m         \u001b[0maudio_clip\u001b[0m\u001b[0;34m.\u001b[0m\u001b[0maudio_find_start\u001b[0m\u001b[0;34m(\u001b[0m\u001b[0;34m)\u001b[0m\u001b[0;34m,\u001b[0m\u001b[0;34m\u001b[0m\u001b[0;34m\u001b[0m\u001b[0m\n\u001b[0m\u001b[1;32m      8\u001b[0m         \u001b[0maudio_clip\u001b[0m\u001b[0;34m.\u001b[0m\u001b[0maudio_find_end\u001b[0m\u001b[0;34m(\u001b[0m\u001b[0;34m)\u001b[0m\u001b[0;34m\u001b[0m\u001b[0;34m\u001b[0m\u001b[0m\n\u001b[1;32m      9\u001b[0m     )\n",
      "\u001b[0;31mAttributeError\u001b[0m: 'AudioFileClip' object has no attribute 'audio_find_start'"
     ]
    }
   ],
   "source": [
    "import os\n",
    "from moviepy.editor import VideoFileClip\n",
    "\n",
    "def trim_silence(audio_clip):\n",
    "    # Trim silence from the beginning and end\n",
    "    trimmed_audio = audio_clip.subclip(\n",
    "        audio_clip.audio_find_start(),\n",
    "        audio_clip.audio_find_end()\n",
    "    )\n",
    "    return trimmed_audio\n",
    "\n",
    "def convert_mov_to_audio(input_folder, output_folder):\n",
    "    # Create the output folder if it doesn't exist\n",
    "    if not os.path.exists(output_folder):\n",
    "        os.makedirs(output_folder)\n",
    "\n",
    "    # Get a list of all files in the input folder\n",
    "    files = os.listdir(input_folder)\n",
    "\n",
    "    # Iterate through each file in the input folder\n",
    "    for file in files:\n",
    "        # Check if the file has a .mov extension\n",
    "        if file.lower().endswith(\".mov\"):\n",
    "            # Construct the full paths for input and output files\n",
    "            input_file_path = os.path.join(input_folder, file)\n",
    "            output_file_path = os.path.join(output_folder, f\"{os.path.splitext(file)[0]}.mp3\")\n",
    "\n",
    "            # Load the video clip\n",
    "            video_clip = VideoFileClip(input_file_path)\n",
    "\n",
    "            # Extract the audio from the video clip\n",
    "            audio_clip = video_clip.audio\n",
    "\n",
    "            # Trim silence from the audio\n",
    "            trimmed_audio = trim_silence(audio_clip)\n",
    "\n",
    "            # Save the trimmed audio clip to the output file\n",
    "            trimmed_audio.write_audiofile(output_file_path)\n",
    "\n",
    "            # Close the video clip to release resources\n",
    "            video_clip.close()\n",
    "\n",
    "            print(f\"Converted {file} to audio with trimmed silence\")\n",
    "\n",
    "if __name__ == \"__main__\":\n",
    "    # Specify the input and output folders\n",
    "    input_folder_path = r'/Users/benhood/Desktop/Raw Audio'\n",
    "    output_folder_path = r'/Users/benhood/Desktop/Clean Audio'\n",
    "\n",
    "    # Call the function to convert .mov files to audio with trimmed silence\n",
    "    convert_mov_to_audio(input_folder_path, output_folder_path)\n"
   ]
  },
  {
   "cell_type": "code",
   "execution_count": 1,
   "id": "f0ddfadd",
   "metadata": {},
   "outputs": [
    {
     "name": "stderr",
     "output_type": "stream",
     "text": [
      "chunk:  36%|███▌      | 204/567 [00:00<00:00, 1993.43it/s, now=None]"
     ]
    },
    {
     "name": "stdout",
     "output_type": "stream",
     "text": [
      "MoviePy - Writing audio in /Users/benhood/Desktop/Reel_Composer/Clean Audio/RPReplay_Final1708142352.mp3\n"
     ]
    },
    {
     "name": "stderr",
     "output_type": "stream",
     "text": [
      "chunk:   0%|          | 0/671 [00:00<?, ?it/s, now=None]            "
     ]
    },
    {
     "name": "stdout",
     "output_type": "stream",
     "text": [
      "MoviePy - Done.\n",
      "Converted RPReplay_Final1708142352.mov to audio with trimmed silence\n",
      "MoviePy - Writing audio in /Users/benhood/Desktop/Reel_Composer/Clean Audio/RPReplay_Final1708142494.mp3\n"
     ]
    },
    {
     "name": "stderr",
     "output_type": "stream",
     "text": [
      "chunk:   0%|          | 0/256 [00:00<?, ?it/s, now=None]            "
     ]
    },
    {
     "name": "stdout",
     "output_type": "stream",
     "text": [
      "MoviePy - Done.\n",
      "Converted RPReplay_Final1708142494.mov to audio with trimmed silence\n",
      "MoviePy - Writing audio in /Users/benhood/Desktop/Reel_Composer/Clean Audio/RPReplay_Final1708142526.mp3\n"
     ]
    },
    {
     "name": "stderr",
     "output_type": "stream",
     "text": [
      "chunk:   0%|          | 0/281 [00:00<?, ?it/s, now=None]"
     ]
    },
    {
     "name": "stdout",
     "output_type": "stream",
     "text": [
      "MoviePy - Done.\n",
      "Converted RPReplay_Final1708142526.mov to audio with trimmed silence\n",
      "MoviePy - Writing audio in /Users/benhood/Desktop/Reel_Composer/Clean Audio/RPReplay_Final1708142445.mp3\n"
     ]
    },
    {
     "name": "stderr",
     "output_type": "stream",
     "text": [
      "chunk:   0%|          | 0/711 [00:00<?, ?it/s, now=None]            "
     ]
    },
    {
     "name": "stdout",
     "output_type": "stream",
     "text": [
      "MoviePy - Done.\n",
      "Converted RPReplay_Final1708142445.mov to audio with trimmed silence\n",
      "MoviePy - Writing audio in /Users/benhood/Desktop/Reel_Composer/Clean Audio/RPReplay_Final1708142267.mp3\n"
     ]
    },
    {
     "name": "stderr",
     "output_type": "stream",
     "text": [
      "chunk:   0%|          | 0/613 [00:00<?, ?it/s, now=None]            "
     ]
    },
    {
     "name": "stdout",
     "output_type": "stream",
     "text": [
      "MoviePy - Done.\n",
      "Converted RPReplay_Final1708142267.mov to audio with trimmed silence\n",
      "MoviePy - Writing audio in /Users/benhood/Desktop/Reel_Composer/Clean Audio/RPReplay_Final1708142312.mp3\n"
     ]
    },
    {
     "name": "stderr",
     "output_type": "stream",
     "text": [
      "chunk:   0%|          | 0/747 [00:00<?, ?it/s, now=None]            "
     ]
    },
    {
     "name": "stdout",
     "output_type": "stream",
     "text": [
      "MoviePy - Done.\n",
      "Converted RPReplay_Final1708142312.mov to audio with trimmed silence\n",
      "MoviePy - Writing audio in /Users/benhood/Desktop/Reel_Composer/Clean Audio/RPReplay_Final1708142401.mp3\n"
     ]
    },
    {
     "name": "stderr",
     "output_type": "stream",
     "text": [
      "                                                                    "
     ]
    },
    {
     "name": "stdout",
     "output_type": "stream",
     "text": [
      "MoviePy - Done.\n",
      "Converted RPReplay_Final1708142401.mov to audio with trimmed silence\n"
     ]
    },
    {
     "name": "stderr",
     "output_type": "stream",
     "text": [
      "\r"
     ]
    }
   ],
   "source": [
    "import os\n",
    "from moviepy.editor import VideoFileClip\n",
    "\n",
    "def trim_silence(audio_clip):\n",
    "    # Find non-silent regions\n",
    "    non_silent = audio_clip.audio_fadein(0.5).audio_fadeout(0.5)\n",
    "    \n",
    "    # Set the duration of the audio clip based on the non-silent regions\n",
    "    trimmed_audio = audio_clip.set_duration(non_silent.duration)\n",
    "    \n",
    "    return trimmed_audio\n",
    "\n",
    "def convert_mov_to_audio(input_folder, output_folder):\n",
    "    # Create the output folder if it doesn't exist\n",
    "    if not os.path.exists(output_folder):\n",
    "        os.makedirs(output_folder)\n",
    "\n",
    "    # Get a list of all files in the input folder\n",
    "    files = os.listdir(input_folder)\n",
    "\n",
    "    # Iterate through each file in the input folder\n",
    "    for file in files:\n",
    "        # Check if the file has a .mov extension\n",
    "        if file.lower().endswith(\".mov\"):\n",
    "            # Construct the full paths for input and output files\n",
    "            input_file_path = os.path.join(input_folder, file)\n",
    "            output_file_path = os.path.join(output_folder, f\"{os.path.splitext(file)[0]}.mp3\")\n",
    "\n",
    "            # Load the video clip\n",
    "            video_clip = VideoFileClip(input_file_path)\n",
    "\n",
    "            # Extract the audio from the video clip\n",
    "            audio_clip = video_clip.audio\n",
    "\n",
    "            # Trim silence from the audio\n",
    "            trimmed_audio = trim_silence(audio_clip)\n",
    "\n",
    "            # Save the trimmed audio clip to the output file\n",
    "            trimmed_audio.write_audiofile(output_file_path)\n",
    "\n",
    "            # Close the video clip to release resources\n",
    "            video_clip.close()\n",
    "\n",
    "            print(f\"Converted {file} to audio with trimmed silence\")\n",
    "\n",
    "if __name__ == \"__main__\":\n",
    "    # Specify the input and output folders\n",
    "    input_folder_path = r'/Users/benhood/Desktop/Reel_Composer/Raw Audio'\n",
    "    output_folder_path = r'/Users/benhood/Desktop/Reel_Composer/Clean Audio'\n",
    "\n",
    "    # Call the function to convert .mov files to audio with trimmed silence\n",
    "    convert_mov_to_audio(input_folder_path, output_folder_path)\n"
   ]
  },
  {
   "cell_type": "code",
   "execution_count": null,
   "id": "e20c6902",
   "metadata": {},
   "outputs": [],
   "source": []
  }
 ],
 "metadata": {
  "kernelspec": {
   "display_name": "Python 3",
   "language": "python",
   "name": "python3"
  },
  "language_info": {
   "codemirror_mode": {
    "name": "ipython",
    "version": 3
   },
   "file_extension": ".py",
   "mimetype": "text/x-python",
   "name": "python",
   "nbconvert_exporter": "python",
   "pygments_lexer": "ipython3",
   "version": "3.8.8"
  }
 },
 "nbformat": 4,
 "nbformat_minor": 5
}
